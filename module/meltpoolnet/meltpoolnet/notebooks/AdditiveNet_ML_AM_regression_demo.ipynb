{
 "cells": [
  {
   "attachments": {},
   "cell_type": "markdown",
   "metadata": {
    "id": "vupfd40eUGm0"
   },
   "source": [
    "# Machine Learning for Additive Manufacturing: Melt Pool Classification"
   ]
  },
  {
   "attachments": {},
   "cell_type": "markdown",
   "metadata": {
    "id": "Hnicu28vUGm1"
   },
   "source": [
    "Load in relevant modules\n",
    "\n",
    "\n",
    "python package dependencies: ```mendeleev, matplotlib, pandas, numpy, pylab, pprint, sklearn, scipy, os```\n",
    "\n"
   ]
  },
  {
   "cell_type": "code",
   "execution_count": null,
   "metadata": {
    "id": "lpjSZzo2UGm3",
    "outputId": "8d6a617a-c45e-4d9d-f29d-3608c0df78ee"
   },
   "outputs": [],
   "source": [
    "import pandas as pd\n",
    "import numpy as np\n",
    "import os\n",
    "os.getcwd()\n",
    "from meltpoolnet.ml.regression_ml import learn\n",
    "from meltpoolnet.utils.utils import select_subset\n",
    "from meltpoolnet.utils.utils import select_parameters, extract_features"
   ]
  },
  {
   "attachments": {},
   "cell_type": "markdown",
   "metadata": {
    "id": "mINPDSBmUGm6"
   },
   "source": [
    "# Load in data, perform basic analysis"
   ]
  },
  {
   "cell_type": "code",
   "execution_count": null,
   "metadata": {
    "id": "UhE9tnunUGm6",
    "outputId": "017e1ba1-43c0-4d18-feed-6a5251f17094"
   },
   "outputs": [],
   "source": [
    "# Load in the csv data, download from Google Sheets and store in directory\n",
    "dataset_dir = os.path.join(os.path.abspath(''), '../../', 'datasets')\n",
    "csv = pd.read_csv(os.path.join(dataset_dir, 'meltpoolgeometry.csv')) \n",
    "csv1 = pd.read_csv(os.path.join(dataset_dir, 'meltpoolgeometry.csv'))\n",
    "csv2 = pd.read_csv(os.path.join(dataset_dir, 'meltpoolclassification.csv'))\n",
    "regressioncsv =  csv1\n",
    "class_csv = csv1.append(csv2)\n",
    "materials = csv['Material'].value_counts()\n"
   ]
  },
  {
   "cell_type": "code",
   "execution_count": null,
   "metadata": {},
   "outputs": [],
   "source": [
    "print('Keys Present in CSV:')\n",
    "for key in csv.keys():\n",
    "    print(key)"
   ]
  },
  {
   "cell_type": "code",
   "execution_count": null,
   "metadata": {},
   "outputs": [],
   "source": [
    "def print_field_composition(csv_input, field):\n",
    "    print(field) \n",
    "    unique, counts = np.unique(csv_input[field], return_counts = True)\n",
    "    indices = np.argsort(counts)[::-1]\n",
    "    unique_sorted = unique[indices]\n",
    "    counts_sorted = counts[indices]\n",
    "    for i in range(len(unique_sorted)):\n",
    "        print(f'{counts_sorted[i]} entries present in {field} {unique_sorted[i]}')\n",
    "print_field_composition(csv, 'Material')\n"
   ]
  },
  {
   "cell_type": "code",
   "execution_count": null,
   "metadata": {
    "id": "LkgrsyesUGnA",
    "outputId": "302932cc-3488-43ac-8b94-717de6978298"
   },
   "outputs": [],
   "source": [
    "# Examine distribution of features\n",
    "for col in csv.columns:\n",
    "    values = csv[col]\n",
    "    num_present = len([value for value in values if not pd.isnull(value)])\n",
    "    total = len(values)\n",
    "    parameter = col\n",
    "    print('{:.1f} % samples have '.format(100*num_present/total) + parameter + ' value')"
   ]
  },
  {
   "attachments": {},
   "cell_type": "markdown",
   "metadata": {
    "id": "ygMOQJJaUGnC"
   },
   "source": [
    "# Machine Learning"
   ]
  },
  {
   "attachments": {},
   "cell_type": "markdown",
   "metadata": {
    "id": "tksfvkAHUGnC"
   },
   "source": [
    "## Helper functions for selecting data"
   ]
  },
  {
   "cell_type": "code",
   "execution_count": null,
   "metadata": {},
   "outputs": [],
   "source": [
    "# Load in the csv data, download from Google Sheets and store in directory\n",
    "print(\"Current directory: \", os.getcwd())\n",
    "csv = pd.read_csv('meltpoolgeometry.csv') \n",
    "csv1 = pd.read_csv('meltpoolgeometry.csv')\n",
    "csv2 = pd.read_csv('meltpoolclassification.csv')\n",
    "regressioncsv =  csv1\n",
    "class_csv = csv1.append(csv2)\n",
    "materials = csv['Material'].value_counts()"
   ]
  },
  {
   "cell_type": "code",
   "execution_count": null,
   "metadata": {},
   "outputs": [],
   "source": [
    "# Examine distribution of features\n",
    "for col in csv.columns:\n",
    "    values = csv[col]\n",
    "    num_present = len([value for value in values if not pd.isnull(value)])\n",
    "    total = len(values)\n",
    "    parameter = col"
   ]
  },
  {
   "cell_type": "code",
   "execution_count": null,
   "metadata": {},
   "outputs": [],
   "source": [
    "# Example use case\n",
    "new_csv = select_subset(class_csv, 'Sub-process','SLM')\n",
    "parameter_list = ['Power', 'Velocity', 'layer thickness']\n",
    "label_col = 'meltpool shape'\n",
    "X, y = select_parameters(new_csv, parameter_list, label_col)\n"
   ]
  },
  {
   "attachments": {},
   "cell_type": "markdown",
   "metadata": {},
   "source": [
    "## Regression Task"
   ]
  },
  {
   "attachments": {},
   "cell_type": "markdown",
   "metadata": {},
   "source": [
    "Predicts the melt pool depth based on features of the build process, iterating over the algorithms:\n",
    "\n",
    "\n",
    "- Random Forests 'RF'\n",
    "\n",
    "\n",
    "- Gaussian Process Regression 'GPR'\n",
    "\n",
    "\n",
    "- Support Vector Regression 'SVR'\n",
    "\n",
    "\n",
    "- Ridge Linear Regression 'Ridge'\n",
    "\n",
    "\n",
    "- Lasso Linear Regression  'Lasso'\n",
    "\n",
    "\n",
    "- Gradient Boosted Random Forest 'GB'\n",
    "\n",
    "\n",
    "\n",
    "- Neural Network 'NN'\n",
    "\n",
    "Base ML case considers process and thermodynamic parameters, and later cells add one-hot-encoding and elemental features\n"
   ]
  },
  {
   "attachments": {},
   "cell_type": "markdown",
   "metadata": {},
   "source": [
    "### Demonstration with baseline parameters"
   ]
  },
  {
   "cell_type": "code",
   "execution_count": null,
   "metadata": {},
   "outputs": [],
   "source": [
    "\n",
    "parameter_list = ['Power', 'Velocity', 'density', 'Cp', 'k' , 'beam D', 'melting T' , 'layer thickness', 'absorption coefficient']\n",
    "label_col = 'depth of meltpool'\n",
    "\n",
    "# Form dataset array from dataframe, given parameter_list, label_col\n",
    "# function select_parameters() does this as well\n",
    "\n",
    "data_list = []\n",
    "label_list = []\n",
    "\n",
    "new_csv = select_subset(regressioncsv, 'Sub-process','SLM')\n",
    "materials_present = []\n",
    "\n",
    "for i in range(len(new_csv)):\n",
    "    success, features, label = extract_features(new_csv.iloc[i], parameter_list, label_col)\n",
    "    #breakpoint()\n",
    "    if success < 0 or  new_csv['paper ID'].iloc[i] in [34]:\n",
    "        \n",
    "        continue\n",
    "    else:\n",
    "        \n",
    "        data_list.append(features)\n",
    "        label_list.append(label)\n",
    "        materials_present.append(new_csv['Material'].iloc[i])\n",
    "    materials_ohe = [np.zeros(len(materials_present)) for key in materials.keys()]\n",
    "    len(materials_ohe)\n",
    "    materials_ohe = np.array(materials_ohe).T\n",
    "    material_pos = np.arange(len(materials.keys()))\n",
    "    \n",
    "    for idx in range(len(materials_present)):\n",
    "        for j_idx in range(len(material_pos)):\n",
    "            if materials_present[idx] == materials.keys()[j_idx]:\n",
    "\n",
    "                materials_ohe[idx,j_idx] = 1 \n",
    "X = np.array(np.squeeze(data_list))  \n",
    "\n",
    "y = np.array(label_list)\n",
    "print(len(X), 'length of X')\n",
    "\n",
    "fit_models, train_accuracy, train_accuracy_std, test_accuracy, test_accuracy_std  = learn(X.reshape(-1, len(parameter_list)), y, parameters = parameter_list, plot = True, title = 'LPBF', model_name = 'RF')\n"
   ]
  }
 ],
 "metadata": {
  "colab": {
   "name": "AdditiveNet_elementalfeatures_updatedcsv.ipynb",
   "provenance": []
  },
  "kernelspec": {
   "display_name": "tensorflow",
   "language": "python",
   "name": "python3"
  },
  "language_info": {
   "codemirror_mode": {
    "name": "ipython",
    "version": 3
   },
   "file_extension": ".py",
   "mimetype": "text/x-python",
   "name": "python",
   "nbconvert_exporter": "python",
   "pygments_lexer": "ipython3",
   "version": "3.7.12"
  }
 },
 "nbformat": 4,
 "nbformat_minor": 1
}
