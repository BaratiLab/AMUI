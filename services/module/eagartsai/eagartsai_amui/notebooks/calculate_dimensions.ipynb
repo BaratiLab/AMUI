{
 "cells": [
  {
   "cell_type": "code",
   "execution_count": 9,
   "metadata": {},
   "outputs": [],
   "source": [
    "from scipy import optimize\n",
    "from scipy import interpolate as interp\n",
    "import numpy as np\n",
    "from skimage import measure\n"
   ]
  },
  {
   "cell_type": "code",
   "execution_count": 32,
   "metadata": {},
   "outputs": [],
   "source": [
    "theta = np.load('../../output_data/material_Ti64/power_200_velocity_0.5/absorp_0.4/meltpool_timestep_3.npy')"
   ]
  },
  {
   "cell_type": "code",
   "execution_count": 36,
   "metadata": {},
   "outputs": [],
   "source": [
    "melt_T = 1700\n",
    "verbose = False\n",
    "b = 200e-6\n",
    "bounds = {'x': [-1000e-6, 1000e-6], 'y': [-300e-6, 300e-6], 'z': [-400e-6, 0]}\n",
    "dimstep = 5e-6\n",
    "xs = np.arange(-b + bounds['x'][0], bounds['x'][1]+ b, step = dimstep)\n",
    "ys = np.arange(bounds['y'][0] - b, bounds['y'][1] + b, step = dimstep)\n",
    "zs = np.arange(bounds['z'][0], bounds['z'][1] + dimstep, step = dimstep)\n"
   ]
  },
  {
   "cell_type": "code",
   "execution_count": 37,
   "metadata": {},
   "outputs": [],
   "source": [
    "def calculate_dimensions(theta, mesh, melt_T, dimstep, verbose = False):\n",
    "    \"\"\"\n",
    "    Calculate the dimensions of a melt pool based on temperature data.\n",
    "\n",
    "    Args:\n",
    "        theta (ndarray): 3D numpy array representing the temperature distribution.\n",
    "        mesh (tuple): Tuple containing the x, y, and z coordinates of the mesh. \n",
    "        Each entry is a numpy array in ascending order containing the unique x, y, or z coordinates of the mesh respectively.\n",
    "        melt_T (float): Melting temperature of the material.\n",
    "        dimstep (float): Step size of the mesh.\n",
    "\n",
    "    Returns:\n",
    "        dict: Dictionary containing the calculated dimensions of the melt pool.\n",
    "            - 'length': Length of the melt pool.\n",
    "            - 'width': Width of the melt pool.\n",
    "            - 'depth': Depth of the melt pool.\n",
    "    \"\"\"\n",
    "    \n",
    "    xs, ys, zs = mesh\n",
    "    # center of the melt pool is where it's the hottest\n",
    "    dimensions = {}\n",
    "    if not np.array(theta[:,:,-1] > melt_T).any():\n",
    "        print(f\"Energy Density too low to melt material, melting temperature: {melt_T} K, max temperature: {np.max(theta[:,:,-1])} K\")\n",
    "        length = 0\n",
    "        width = 0\n",
    "        depth = 0\n",
    "        dimensions['length'] = length\n",
    "        dimensions['width'] = width \n",
    "        dimensions['depth'] = depth\n",
    "        return dimensions\n",
    "    else:\n",
    "\n",
    "        # Calculate length and width the easy way\n",
    "        # Create object to calculate the dimensions of the binarized melt pool\n",
    "        prop = measure.regionprops(np.array(theta[:,:,-1]>melt_T, dtype = 'int'))\n",
    "        length = prop[0].major_axis_length*dimstep\n",
    "\n",
    "        if verbose:\n",
    "            print(\"Length: {:.04} ± {:.04}\".format(length*1e6, dimstep*1e6))\n",
    "        width = prop[0].minor_axis_length*dimstep\n",
    "        if verbose:\n",
    "            print(\"Width: {:.04} ± {:.04}\".format(width*1e6, dimstep*1e6))\n",
    "\n",
    "        depths = []\n",
    "        for j in range(len(ys)):\n",
    "            for i in range(len(xs)):     \n",
    "                # Calculate depth the hard way\n",
    "                if theta[i, j, -1] > melt_T:\n",
    "                    g = interp.CubicSpline(zs, theta[i, j, :] - melt_T)\n",
    "                    root = optimize.brentq(g, zs[0],zs[-1])\n",
    "                    depths.append(root)\n",
    "\n",
    "        depth = np.min(depths)\n",
    "        dimensions['length'] = length\n",
    "        dimensions['width'] = width\n",
    "        dimensions['depth'] = -depth\n",
    "        if verbose:\n",
    "            print(\"Calculated dimensions. Length: {:.04}µm, Width: {:.04}µm, Depth: {:.04}µm\".format(length*1e6, width*1e6, -depth*1e6))\n",
    "        return dimensions\n",
    "    \n"
   ]
  },
  {
   "cell_type": "code",
   "execution_count": 35,
   "metadata": {},
   "outputs": [
    {
     "name": "stdout",
     "output_type": "stream",
     "text": [
      "Length: 539.8 ± 5.0\n",
      "Width: 183.6 ± 5.0\n",
      "Calculated dimensions. Length: 539.8µm, Width: 183.6µm, Depth: 79.74µm\n",
      "{'length': 0.0005398443421684037, 'width': 0.00018355961652154616, 'depth': 7.974130916267422e-05}\n"
     ]
    }
   ],
   "source": [
    "mesh = (xs, ys, zs)\n",
    "dimensions = calculate_dimensions(theta,\n",
    "                                  mesh,\n",
    "                                  melt_T,\n",
    "                                  dimstep = 5e-6,\n",
    "                                  verbose = True)\n",
    "print(dimensions)"
   ]
  }
 ],
 "metadata": {
  "kernelspec": {
   "display_name": "base",
   "language": "python",
   "name": "python3"
  },
  "language_info": {
   "codemirror_mode": {
    "name": "ipython",
    "version": 3
   },
   "file_extension": ".py",
   "mimetype": "text/x-python",
   "name": "python",
   "nbconvert_exporter": "python",
   "pygments_lexer": "ipython3",
   "version": "3.9.0"
  }
 },
 "nbformat": 4,
 "nbformat_minor": 2
}
